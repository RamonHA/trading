{
 "cells": [
  {
   "attachments": {},
   "cell_type": "markdown",
   "metadata": {},
   "source": [
    "# General discovery over the Binance API"
   ]
  },
  {
   "cell_type": "code",
   "execution_count": 81,
   "metadata": {},
   "outputs": [],
   "source": [
    "import numpy as np\n",
    "import math\n",
    "import time\n",
    "import pandas as pd\n",
    "from datetime import datetime"
   ]
  },
  {
   "cell_type": "code",
   "execution_count": 1,
   "metadata": {},
   "outputs": [],
   "source": [
    "from trading.assets.binance import Binance"
   ]
  },
  {
   "attachments": {},
   "cell_type": "markdown",
   "metadata": {},
   "source": [
    "# Future call"
   ]
  },
  {
   "cell_type": "code",
   "execution_count": 48,
   "metadata": {},
   "outputs": [],
   "source": [
    "def rounding( number, decimals, mode = \"down\" ):\n",
    "    decimals_exp = 10**decimals\n",
    "    if mode == \"down\":\n",
    "        v = math.floor( number*decimals_exp ) / decimals_exp\n",
    "    elif mode == \"up\":\n",
    "        v = math.ceil( number*decimals_exp ) / decimals_exp\n",
    "    else:\n",
    "        raise ValueError(f\"No mode {mode}\")\n",
    "    \n",
    "    if v == float(f'%.{decimals}f'%(number)):\n",
    "        return round(number, decimals)\n",
    "    else:\n",
    "        print(v, float(f'%.{decimals}f'%(number)))\n",
    "        return v"
   ]
  },
  {
   "cell_type": "code",
   "execution_count": 153,
   "metadata": {},
   "outputs": [],
   "source": [
    "bi = Binance(symbol=\"\")"
   ]
  },
  {
   "cell_type": "code",
   "execution_count": 168,
   "metadata": {},
   "outputs": [],
   "source": [
    "symbol = \"{}USDT\".format(\"APT\")\n",
    "pct = 1.0025\n",
    "share = .35\n",
    "leverage = 20"
   ]
  },
  {
   "cell_type": "code",
   "execution_count": 169,
   "metadata": {},
   "outputs": [
    {
     "data": {
      "text/plain": [
       "(3.8368, 12.0121723)"
      ]
     },
     "execution_count": 169,
     "metadata": {},
     "output_type": "execute_result"
    }
   ],
   "source": [
    "balance = float([ i[\"balance\"] for i in bi.client.futures_account_balance() if i[\"asset\"] == \"USDT\"][0])\n",
    "price = bi.client.futures_symbol_ticker(symbol = symbol)[\"price\"]\n",
    "price = float(price)\n",
    "\n",
    "price, balance"
   ]
  },
  {
   "cell_type": "code",
   "execution_count": 170,
   "metadata": {},
   "outputs": [
    {
     "data": {
      "text/plain": [
       "2"
      ]
     },
     "execution_count": 170,
     "metadata": {},
     "output_type": "execute_result"
    }
   ],
   "source": [
    "ticker_info = bi.client.get_symbol_info(symbol)\n",
    "\n",
    "qty_rouding = len(str(float([i[\"stepSize\"] for i in ticker_info[\"filters\"] if i[\"filterType\"] == \"LOT_SIZE\"][0])).split(\".\")[-1])\n",
    "qty_rouding"
   ]
  },
  {
   "cell_type": "code",
   "execution_count": 171,
   "metadata": {},
   "outputs": [],
   "source": [
    "qty_rouding-=1"
   ]
  },
  {
   "cell_type": "code",
   "execution_count": 172,
   "metadata": {},
   "outputs": [],
   "source": [
    "try:\n",
    "    qty = balance*leverage*share / price\n",
    "    qty = round( qty, qty_rouding   )\n",
    "\n",
    "    bi.client.futures_change_leverage(symbol=symbol, leverage=leverage)\n",
    "\n",
    "    orderBuy = bi.client.futures_create_order(\n",
    "        symbol = symbol,\n",
    "        type = \"MARKET\",\n",
    "        # timeInForce =\"GTC\",\n",
    "        side = \"BUY\",\n",
    "        quantity = qty,\n",
    "    )\n",
    "except Exception as e:\n",
    "    print(e)"
   ]
  },
  {
   "cell_type": "code",
   "execution_count": 178,
   "metadata": {},
   "outputs": [
    {
     "data": {
      "text/plain": [
       "3.8369"
      ]
     },
     "execution_count": 178,
     "metadata": {},
     "output_type": "execute_result"
    }
   ],
   "source": [
    "df_trades = pd.DataFrame(bi.client.futures_account_trades())\n",
    "df_trades = df_trades[ df_trades[\"orderId\"] == orderBuy[\"orderId\"] ]\n",
    "real_price_bought = float(df_trades[\"price\"].iloc[-1])\n",
    "real_price_bought"
   ]
  },
  {
   "cell_type": "code",
   "execution_count": 179,
   "metadata": {},
   "outputs": [
    {
     "data": {
      "text/html": [
       "<div>\n",
       "<style scoped>\n",
       "    .dataframe tbody tr th:only-of-type {\n",
       "        vertical-align: middle;\n",
       "    }\n",
       "\n",
       "    .dataframe tbody tr th {\n",
       "        vertical-align: top;\n",
       "    }\n",
       "\n",
       "    .dataframe thead th {\n",
       "        text-align: right;\n",
       "    }\n",
       "</style>\n",
       "<table border=\"1\" class=\"dataframe\">\n",
       "  <thead>\n",
       "    <tr style=\"text-align: right;\">\n",
       "      <th></th>\n",
       "      <th>symbol</th>\n",
       "      <th>id</th>\n",
       "      <th>orderId</th>\n",
       "      <th>side</th>\n",
       "      <th>price</th>\n",
       "      <th>qty</th>\n",
       "      <th>realizedPnl</th>\n",
       "      <th>marginAsset</th>\n",
       "      <th>quoteQty</th>\n",
       "      <th>commission</th>\n",
       "      <th>commissionAsset</th>\n",
       "      <th>time</th>\n",
       "      <th>positionSide</th>\n",
       "      <th>buyer</th>\n",
       "      <th>maker</th>\n",
       "    </tr>\n",
       "  </thead>\n",
       "  <tbody>\n",
       "    <tr>\n",
       "      <th>53</th>\n",
       "      <td>APTUSDT</td>\n",
       "      <td>65514388</td>\n",
       "      <td>1253587098</td>\n",
       "      <td>BUY</td>\n",
       "      <td>3.83690</td>\n",
       "      <td>21.9</td>\n",
       "      <td>0</td>\n",
       "      <td>USDT</td>\n",
       "      <td>84.028110</td>\n",
       "      <td>0.03361124</td>\n",
       "      <td>USDT</td>\n",
       "      <td>1672761540276</td>\n",
       "      <td>BOTH</td>\n",
       "      <td>True</td>\n",
       "      <td>False</td>\n",
       "    </tr>\n",
       "  </tbody>\n",
       "</table>\n",
       "</div>"
      ],
      "text/plain": [
       "     symbol        id     orderId side    price   qty realizedPnl marginAsset  \\\n",
       "53  APTUSDT  65514388  1253587098  BUY  3.83690  21.9           0        USDT   \n",
       "\n",
       "     quoteQty  commission commissionAsset           time positionSide  buyer  \\\n",
       "53  84.028110  0.03361124            USDT  1672761540276         BOTH   True   \n",
       "\n",
       "    maker  \n",
       "53  False  "
      ]
     },
     "execution_count": 179,
     "metadata": {},
     "output_type": "execute_result"
    }
   ],
   "source": [
    "df_trades"
   ]
  },
  {
   "cell_type": "code",
   "execution_count": 180,
   "metadata": {},
   "outputs": [
    {
     "data": {
      "text/plain": [
       "21.9"
      ]
     },
     "execution_count": 180,
     "metadata": {},
     "output_type": "execute_result"
    }
   ],
   "source": [
    "qty"
   ]
  },
  {
   "cell_type": "code",
   "execution_count": 174,
   "metadata": {},
   "outputs": [
    {
     "data": {
      "text/plain": [
       "4"
      ]
     },
     "execution_count": 174,
     "metadata": {},
     "output_type": "execute_result"
    }
   ],
   "source": [
    "# price_rounding = len(str(float([i[\"tickSize\"] for i in ticker_info[\"filters\"] if i[\"filterType\"] == \"PRICE_FILTER\"][0])).split(\".\")[-1])\n",
    "price_rounding = len(str(real_price_bought).split(\".\")[-1])\n",
    "price_rounding"
   ]
  },
  {
   "cell_type": "code",
   "execution_count": 175,
   "metadata": {},
   "outputs": [
    {
     "data": {
      "text/plain": [
       "4"
      ]
     },
     "execution_count": 175,
     "metadata": {},
     "output_type": "execute_result"
    }
   ],
   "source": [
    "len(str(float([i[\"tickSize\"] for i in ticker_info[\"filters\"] if i[\"filterType\"] == \"PRICE_FILTER\"][0])).split(\".\")[-1])"
   ]
  },
  {
   "cell_type": "code",
   "execution_count": 176,
   "metadata": {},
   "outputs": [],
   "source": [
    "try:\n",
    "    price_sell = round(real_price_bought*pct, price_rounding)\n",
    "    real_price_bought, price_sell\n",
    "\n",
    "    orderSell = bi.client.futures_create_order(\n",
    "            symbol = symbol,\n",
    "            type = \"LIMIT\", \n",
    "            timeInForce =\"GTC\",\n",
    "            side = \"SELL\",\n",
    "            price = price_sell, \n",
    "            quantity = qty,\n",
    "        )\n",
    "except Exception as e:\n",
    "    print(e)"
   ]
  },
  {
   "cell_type": "code",
   "execution_count": null,
   "metadata": {},
   "outputs": [],
   "source": []
  }
 ],
 "metadata": {
  "kernelspec": {
   "display_name": "VirtualEnv",
   "language": "python",
   "name": "python3"
  },
  "language_info": {
   "codemirror_mode": {
    "name": "ipython",
    "version": 3
   },
   "file_extension": ".py",
   "mimetype": "text/x-python",
   "name": "python",
   "nbconvert_exporter": "python",
   "pygments_lexer": "ipython3",
   "version": "3.10.9"
  },
  "orig_nbformat": 4,
  "vscode": {
   "interpreter": {
    "hash": "05c6edd2ad8f54df3cbfb14affd67243a65bc545ac74faad249fc11b86d2bf4c"
   }
  }
 },
 "nbformat": 4,
 "nbformat_minor": 2
}
