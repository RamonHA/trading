{
 "cells": [
  {
   "cell_type": "code",
   "execution_count": 1,
   "metadata": {},
   "outputs": [],
   "source": [
    "from trading import Asset\n",
    "from trading.testers.rules_testing import *\n",
    "from datetime import date"
   ]
  },
  {
   "cell_type": "code",
   "execution_count": 2,
   "metadata": {},
   "outputs": [],
   "source": [
    "asset = Asset(\n",
    "    symbol = \"LTC\",\n",
    "    fiat = \"USDT\",\n",
    "    broker = \"binance\", # based on how it is saved on the config\n",
    "\n",
    "    source = \"ext_api\", # can also be 'api' or 'db'\n",
    "\n",
    "    frequency = \"1d\",\n",
    "    start = date(2022,1,1),\n",
    "    end = date(2022,6,1),\n",
    ")"
   ]
  },
  {
   "cell_type": "code",
   "execution_count": 3,
   "metadata": {},
   "outputs": [],
   "source": [
    "asset.df[\"sma\"] = asset.sma( 30 )"
   ]
  },
  {
   "cell_type": "code",
   "execution_count": 4,
   "metadata": {},
   "outputs": [],
   "source": [
    "asset.df[\"buy\"] = asset.df[ \"close\" ] > asset.df[\"sma\"]"
   ]
  },
  {
   "cell_type": "code",
   "execution_count": 5,
   "metadata": {},
   "outputs": [],
   "source": [
    "rt = RuleTesting( asset = asset, rules = {\"buy\":\"close > sma\"} , target = 0.0015)"
   ]
  },
  {
   "cell_type": "code",
   "execution_count": 6,
   "metadata": {},
   "outputs": [
    {
     "data": {
      "text/html": [
       "<div>\n",
       "<style scoped>\n",
       "    .dataframe tbody tr th:only-of-type {\n",
       "        vertical-align: middle;\n",
       "    }\n",
       "\n",
       "    .dataframe tbody tr th {\n",
       "        vertical-align: top;\n",
       "    }\n",
       "\n",
       "    .dataframe thead th {\n",
       "        text-align: right;\n",
       "    }\n",
       "</style>\n",
       "<table border=\"1\" class=\"dataframe\">\n",
       "  <thead>\n",
       "    <tr style=\"text-align: right;\">\n",
       "      <th></th>\n",
       "      <th>date_bought</th>\n",
       "      <th>bought</th>\n",
       "      <th>date_sold</th>\n",
       "      <th>sold</th>\n",
       "      <th>returns</th>\n",
       "      <th>acc</th>\n",
       "    </tr>\n",
       "  </thead>\n",
       "  <tbody>\n",
       "    <tr>\n",
       "      <th>0</th>\n",
       "      <td>2022-02-06</td>\n",
       "      <td>127.6</td>\n",
       "      <td>2022-02-07</td>\n",
       "      <td>137.4</td>\n",
       "      <td>0.077</td>\n",
       "      <td>1.077</td>\n",
       "    </tr>\n",
       "    <tr>\n",
       "      <th>1</th>\n",
       "      <td>2022-03-16</td>\n",
       "      <td>111.4</td>\n",
       "      <td>2022-03-18</td>\n",
       "      <td>111.9</td>\n",
       "      <td>0.004</td>\n",
       "      <td>1.082</td>\n",
       "    </tr>\n",
       "  </tbody>\n",
       "</table>\n",
       "</div>"
      ],
      "text/plain": [
       "  date_bought  bought  date_sold   sold  returns    acc\n",
       "0  2022-02-06   127.6 2022-02-07  137.4    0.077  1.077\n",
       "1  2022-03-16   111.4 2022-03-18  111.9    0.004  1.082"
      ]
     },
     "execution_count": 6,
     "metadata": {},
     "output_type": "execute_result"
    }
   ],
   "source": [
    "rt.run(\n",
    "    \n",
    ")"
   ]
  },
  {
   "cell_type": "code",
   "execution_count": null,
   "metadata": {},
   "outputs": [],
   "source": []
  }
 ],
 "metadata": {
  "kernelspec": {
   "display_name": "VirtualEnv",
   "language": "python",
   "name": "python3"
  },
  "language_info": {
   "codemirror_mode": {
    "name": "ipython",
    "version": 3
   },
   "file_extension": ".py",
   "mimetype": "text/x-python",
   "name": "python",
   "nbconvert_exporter": "python",
   "pygments_lexer": "ipython3",
   "version": "3.10.10"
  },
  "orig_nbformat": 4
 },
 "nbformat": 4,
 "nbformat_minor": 2
}
