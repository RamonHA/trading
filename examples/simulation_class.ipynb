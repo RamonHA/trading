{
 "cells": [
  {
   "attachments": {},
   "cell_type": "markdown",
   "metadata": {},
   "source": [
    "# Understanding Simulation class"
   ]
  },
  {
   "cell_type": "code",
   "execution_count": 1,
   "metadata": {},
   "outputs": [],
   "source": [
    "from trading.processes import Simulation\n",
    "from datetime import date"
   ]
  },
  {
   "cell_type": "code",
   "execution_count": 2,
   "metadata": {},
   "outputs": [],
   "source": [
    "# if __name__ == \"__main__\": # If parallel = True\n",
    "\n",
    "sim = Simulation(\n",
    "    broker = \"binance\",\n",
    "    fiat = \"USDT\",\n",
    "\n",
    "    commission= 0,\n",
    "    # assets =,\n",
    "    \n",
    "    end = date(2023,2,1),\n",
    "    simulations=30,\n",
    "    parallel=False\n",
    ")"
   ]
  },
  {
   "cell_type": "code",
   "execution_count": null,
   "metadata": {},
   "outputs": [],
   "source": [
    "sim.analyze(\n",
    "    frequency=\"1d\",\n",
    ")"
   ]
  }
 ],
 "metadata": {
  "kernelspec": {
   "display_name": "VirtualEnv",
   "language": "python",
   "name": "python3"
  },
  "language_info": {
   "codemirror_mode": {
    "name": "ipython",
    "version": 3
   },
   "file_extension": ".py",
   "mimetype": "text/x-python",
   "name": "python",
   "nbconvert_exporter": "python",
   "pygments_lexer": "ipython3",
   "version": "3.10.9"
  },
  "orig_nbformat": 4,
  "vscode": {
   "interpreter": {
    "hash": "05c6edd2ad8f54df3cbfb14affd67243a65bc545ac74faad249fc11b86d2bf4c"
   }
  }
 },
 "nbformat": 4,
 "nbformat_minor": 2
}
