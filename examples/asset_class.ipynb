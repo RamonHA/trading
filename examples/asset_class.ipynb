{
 "cells": [
  {
   "attachments": {},
   "cell_type": "markdown",
   "metadata": {},
   "source": [
    "# Understanding Asset class"
   ]
  },
  {
   "cell_type": "code",
   "execution_count": 1,
   "metadata": {},
   "outputs": [],
   "source": [
    "from trading import Asset\n",
    "from datetime import date"
   ]
  },
  {
   "cell_type": "code",
   "execution_count": 2,
   "metadata": {},
   "outputs": [],
   "source": [
    "asset = Asset(\n",
    "    symbol = \"LTC\",\n",
    "    fiat = \"USDT\",\n",
    "    broker = \"binance\", # based on how it is saved on the config\n",
    "\n",
    "    frequency = \"1d\",\n",
    "    start = date(2022,1,1),\n",
    "    end = date(2022,6,1),\n",
    "\n",
    "    from_ = \"ext_api\", # can also be 'api' or 'db'\n",
    "\n",
    ")"
   ]
  },
  {
   "cell_type": "code",
   "execution_count": null,
   "metadata": {},
   "outputs": [],
   "source": []
  }
 ],
 "metadata": {
  "kernelspec": {
   "display_name": "VirtualEnv",
   "language": "python",
   "name": "python3"
  },
  "language_info": {
   "codemirror_mode": {
    "name": "ipython",
    "version": 3
   },
   "file_extension": ".py",
   "mimetype": "text/x-python",
   "name": "python",
   "nbconvert_exporter": "python",
   "pygments_lexer": "ipython3",
   "version": "3.10.9"
  },
  "orig_nbformat": 4,
  "vscode": {
   "interpreter": {
    "hash": "05c6edd2ad8f54df3cbfb14affd67243a65bc545ac74faad249fc11b86d2bf4c"
   }
  }
 },
 "nbformat": 4,
 "nbformat_minor": 2
}
