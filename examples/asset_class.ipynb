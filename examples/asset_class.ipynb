{
 "cells": [
  {
   "attachments": {},
   "cell_type": "markdown",
   "metadata": {},
   "source": [
    "# Understanding Asset class"
   ]
  },
  {
   "cell_type": "code",
   "execution_count": 1,
   "metadata": {},
   "outputs": [],
   "source": [
    "from trading import Asset\n",
    "from datetime import date"
   ]
  },
  {
   "cell_type": "code",
   "execution_count": null,
   "metadata": {},
   "outputs": [],
   "source": [
    "asset = Asset(\n",
    "    symbol = \"LTC\",\n",
    "    fiat = \"USDT\",\n",
    "    broker = \"binance\", # based on how it is saved on the config\n",
    "\n",
    "    from_ = \"api\", # can also be 'api' or 'db'\n",
    "\n",
    ")"
   ]
  },
  {
   "cell_type": "code",
   "execution_count": 4,
   "metadata": {},
   "outputs": [],
   "source": [
    "asset = Asset(\n",
    "    symbol = \"APPL\",\n",
    "    fiat = \"MX\",\n",
    "    broker = \"gbm\", # based on how it is saved on the config\n",
    "\n",
    "    frequency = \"1d\",\n",
    "    start = date(2022,1,1),\n",
    "    end = date(2022,6,1),\n",
    "\n",
    "    from_ = \"yahoo\", # can also be 'api' or 'db'\n",
    "\n",
    ")"
   ]
  },
  {
   "cell_type": "code",
   "execution_count": 5,
   "metadata": {},
   "outputs": [
    {
     "data": {
      "text/html": [
       "<div>\n",
       "<style scoped>\n",
       "    .dataframe tbody tr th:only-of-type {\n",
       "        vertical-align: middle;\n",
       "    }\n",
       "\n",
       "    .dataframe tbody tr th {\n",
       "        vertical-align: top;\n",
       "    }\n",
       "\n",
       "    .dataframe thead th {\n",
       "        text-align: right;\n",
       "    }\n",
       "</style>\n",
       "<table border=\"1\" class=\"dataframe\">\n",
       "  <thead>\n",
       "    <tr style=\"text-align: right;\">\n",
       "      <th></th>\n",
       "      <th>open</th>\n",
       "      <th>high</th>\n",
       "      <th>low</th>\n",
       "      <th>close</th>\n",
       "      <th>volume</th>\n",
       "      <th>quotevolume</th>\n",
       "    </tr>\n",
       "    <tr>\n",
       "      <th>date</th>\n",
       "      <th></th>\n",
       "      <th></th>\n",
       "      <th></th>\n",
       "      <th></th>\n",
       "      <th></th>\n",
       "      <th></th>\n",
       "    </tr>\n",
       "  </thead>\n",
       "  <tbody>\n",
       "    <tr>\n",
       "      <th>2022-01-01</th>\n",
       "      <td>146.2</td>\n",
       "      <td>151.0</td>\n",
       "      <td>146.1</td>\n",
       "      <td>150.8</td>\n",
       "      <td>225155.540</td>\n",
       "      <td>3.347906e+07</td>\n",
       "    </tr>\n",
       "    <tr>\n",
       "      <th>2022-01-02</th>\n",
       "      <td>150.8</td>\n",
       "      <td>153.4</td>\n",
       "      <td>147.8</td>\n",
       "      <td>151.2</td>\n",
       "      <td>228350.087</td>\n",
       "      <td>3.435156e+07</td>\n",
       "    </tr>\n",
       "    <tr>\n",
       "      <th>2022-01-03</th>\n",
       "      <td>151.1</td>\n",
       "      <td>151.2</td>\n",
       "      <td>146.0</td>\n",
       "      <td>148.5</td>\n",
       "      <td>291038.873</td>\n",
       "      <td>4.340716e+07</td>\n",
       "    </tr>\n",
       "    <tr>\n",
       "      <th>2022-01-04</th>\n",
       "      <td>148.4</td>\n",
       "      <td>151.7</td>\n",
       "      <td>145.2</td>\n",
       "      <td>146.5</td>\n",
       "      <td>331705.663</td>\n",
       "      <td>4.933143e+07</td>\n",
       "    </tr>\n",
       "    <tr>\n",
       "      <th>2022-01-05</th>\n",
       "      <td>146.5</td>\n",
       "      <td>150.0</td>\n",
       "      <td>129.8</td>\n",
       "      <td>135.4</td>\n",
       "      <td>601964.057</td>\n",
       "      <td>8.576277e+07</td>\n",
       "    </tr>\n",
       "    <tr>\n",
       "      <th>...</th>\n",
       "      <td>...</td>\n",
       "      <td>...</td>\n",
       "      <td>...</td>\n",
       "      <td>...</td>\n",
       "      <td>...</td>\n",
       "      <td>...</td>\n",
       "    </tr>\n",
       "    <tr>\n",
       "      <th>2022-05-28</th>\n",
       "      <td>61.6</td>\n",
       "      <td>64.0</td>\n",
       "      <td>61.3</td>\n",
       "      <td>63.0</td>\n",
       "      <td>336506.622</td>\n",
       "      <td>2.111319e+07</td>\n",
       "    </tr>\n",
       "    <tr>\n",
       "      <th>2022-05-29</th>\n",
       "      <td>63.1</td>\n",
       "      <td>64.4</td>\n",
       "      <td>61.8</td>\n",
       "      <td>63.6</td>\n",
       "      <td>315852.358</td>\n",
       "      <td>1.996028e+07</td>\n",
       "    </tr>\n",
       "    <tr>\n",
       "      <th>2022-05-30</th>\n",
       "      <td>63.7</td>\n",
       "      <td>69.8</td>\n",
       "      <td>63.2</td>\n",
       "      <td>69.1</td>\n",
       "      <td>612046.039</td>\n",
       "      <td>4.086501e+07</td>\n",
       "    </tr>\n",
       "    <tr>\n",
       "      <th>2022-05-31</th>\n",
       "      <td>69.1</td>\n",
       "      <td>69.8</td>\n",
       "      <td>66.7</td>\n",
       "      <td>68.4</td>\n",
       "      <td>445048.542</td>\n",
       "      <td>3.045180e+07</td>\n",
       "    </tr>\n",
       "    <tr>\n",
       "      <th>2022-06-01</th>\n",
       "      <td>68.4</td>\n",
       "      <td>70.6</td>\n",
       "      <td>61.7</td>\n",
       "      <td>62.7</td>\n",
       "      <td>634020.203</td>\n",
       "      <td>4.213279e+07</td>\n",
       "    </tr>\n",
       "  </tbody>\n",
       "</table>\n",
       "<p>152 rows × 6 columns</p>\n",
       "</div>"
      ],
      "text/plain": [
       "             open   high    low  close      volume   quotevolume\n",
       "date                                                            \n",
       "2022-01-01  146.2  151.0  146.1  150.8  225155.540  3.347906e+07\n",
       "2022-01-02  150.8  153.4  147.8  151.2  228350.087  3.435156e+07\n",
       "2022-01-03  151.1  151.2  146.0  148.5  291038.873  4.340716e+07\n",
       "2022-01-04  148.4  151.7  145.2  146.5  331705.663  4.933143e+07\n",
       "2022-01-05  146.5  150.0  129.8  135.4  601964.057  8.576277e+07\n",
       "...           ...    ...    ...    ...         ...           ...\n",
       "2022-05-28   61.6   64.0   61.3   63.0  336506.622  2.111319e+07\n",
       "2022-05-29   63.1   64.4   61.8   63.6  315852.358  1.996028e+07\n",
       "2022-05-30   63.7   69.8   63.2   69.1  612046.039  4.086501e+07\n",
       "2022-05-31   69.1   69.8   66.7   68.4  445048.542  3.045180e+07\n",
       "2022-06-01   68.4   70.6   61.7   62.7  634020.203  4.213279e+07\n",
       "\n",
       "[152 rows x 6 columns]"
      ]
     },
     "execution_count": 5,
     "metadata": {},
     "output_type": "execute_result"
    }
   ],
   "source": [
    "asset.df"
   ]
  },
  {
   "cell_type": "code",
   "execution_count": 7,
   "metadata": {},
   "outputs": [],
   "source": [
    "asset.df[\"sma30\"] = asset.sma(30)"
   ]
  },
  {
   "cell_type": "code",
   "execution_count": 8,
   "metadata": {},
   "outputs": [
    {
     "data": {
      "text/plain": [
       "<AxesSubplot:xlabel='date'>"
      ]
     },
     "execution_count": 8,
     "metadata": {},
     "output_type": "execute_result"
    },
    {
     "data": {
      "image/png": "[encoded data removed]",
      "text/plain": [
       "<Figure size 640x480 with 1 Axes>"
      ]
     },
     "metadata": {},
     "output_type": "display_data"
    }
   ],
   "source": [
    "asset.df[[\"close\", \"sma30\"]].plot()"
   ]
  },
  {
   "cell_type": "code",
   "execution_count": null,
   "metadata": {},
   "outputs": [],
   "source": []
  }
 ],
 "metadata": {
  "kernelspec": {
   "display_name": "VirtualEnv",
   "language": "python",
   "name": "python3"
  },
  "language_info": {
   "codemirror_mode": {
    "name": "ipython",
    "version": 3
   },
   "file_extension": ".py",
   "mimetype": "text/x-python",
   "name": "python",
   "nbconvert_exporter": "python",
   "pygments_lexer": "ipython3",
   "version": "3.10.10"
  },
  "orig_nbformat": 4,
  "vscode": {
   "interpreter": {
    "hash": "05c6edd2ad8f54df3cbfb14affd67243a65bc545ac74faad249fc11b86d2bf4c"
   }
  }
 },
 "nbformat": 4,
 "nbformat_minor": 2
}
