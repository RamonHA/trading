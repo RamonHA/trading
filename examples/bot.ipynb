{
 "cells": [
  {
   "attachments": {},
   "cell_type": "markdown",
   "metadata": {},
   "source": [
    "# Examples of Bots"
   ]
  },
  {
   "cell_type": "code",
   "execution_count": 1,
   "metadata": {},
   "outputs": [],
   "source": [
    "from trading.processes import Bot"
   ]
  },
  {
   "attachments": {},
   "cell_type": "markdown",
   "metadata": {},
   "source": [
    "## Binance"
   ]
  },
  {
   "cell_type": "code",
   "execution_count": 3,
   "metadata": {},
   "outputs": [
    {
     "name": "stdout",
     "output_type": "stream",
     "text": [
      "Folder already exists C:\\Users\\ramon\\Documents\\Trading\\WorkingDir\\binance\\bots\\USDT\\daily_binance_with_momentum\n"
     ]
    }
   ],
   "source": [
    "bot = Bot( \n",
    "    name = \"daily_binance_with_momentum\",\n",
    "    broker = \"binance\",\n",
    "    fiat = \"USDT\",\n",
    ")"
   ]
  },
  {
   "cell_type": "code",
   "execution_count": 4,
   "metadata": {},
   "outputs": [],
   "source": [
    "def momentum(asset):\n",
    "    m = asset.momentum(4)\n",
    "    return m.iloc[ -1 ]"
   ]
  },
  {
   "cell_type": "code",
   "execution_count": null,
   "metadata": {},
   "outputs": [],
   "source": [
    "bot.analyze(\n",
    "    frequency = \"6h\",\n",
    "    test_time=4,\n",
    "    analysis={\n",
    "        \"LowestMomentum_{}\".format(4):{\n",
    "                \"function\":momentum,\n",
    "                \"time\":50,\n",
    "                \"type\":\"filter\",\n",
    "                \"filter\":\"lowest\",\n",
    "                \"filter_qty\":0.3\n",
    "            },\n",
    "    },\n",
    "    from_ = \"ext_api\"\n",
    ")"
   ]
  },
  {
   "cell_type": "code",
   "execution_count": null,
   "metadata": {},
   "outputs": [],
   "source": [
    "bot.optimize(\n",
    "    balance_time = 4,\n",
    "    frequency = \"6h\"\n",
    ")"
   ]
  },
  {
   "cell_type": "code",
   "execution_count": null,
   "metadata": {},
   "outputs": [],
   "source": []
  }
 ],
 "metadata": {
  "kernelspec": {
   "display_name": "VirtualEnv",
   "language": "python",
   "name": "python3"
  },
  "language_info": {
   "codemirror_mode": {
    "name": "ipython",
    "version": 3
   },
   "file_extension": ".py",
   "mimetype": "text/x-python",
   "name": "python",
   "nbconvert_exporter": "python",
   "pygments_lexer": "ipython3",
   "version": "3.10.9"
  },
  "orig_nbformat": 4,
  "vscode": {
   "interpreter": {
    "hash": "05c6edd2ad8f54df3cbfb14affd67243a65bc545ac74faad249fc11b86d2bf4c"
   }
  }
 },
 "nbformat": 4,
 "nbformat_minor": 2
}
